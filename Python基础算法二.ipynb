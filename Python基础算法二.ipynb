{
 "cells": [
  {
   "cell_type": "markdown",
   "metadata": {},
   "source": [
    "1. 请利用filter()过滤出1~100中平方根是整数的数，即结果应该是：\n",
    "\n",
    "`[1, 4, 9, 16, 25, 36, 49, 64, 81, 100]`"
   ]
  },
  {
   "cell_type": "code",
   "execution_count": 1,
   "metadata": {},
   "outputs": [
    {
     "name": "stdout",
     "output_type": "stream",
     "text": [
      "[1, 4, 9, 16, 25, 36, 49, 64, 81, 100]\n"
     ]
    }
   ],
   "source": [
    "import math\n",
    "\n",
    "def is_sqr(x):\n",
    "    r = int(math.sqrt(x))\n",
    "    return r*r==x\n",
    "\n",
    "print(filter(is_sqr, range(1, 101)))"
   ]
  },
  {
   "cell_type": "markdown",
   "metadata": {},
   "source": [
    "2. 假设用户输入的英文名字不规范，没有按照首字母大写，后续字母小写的规则，请利用map()函数，把一个list（包含若干不规范的英文名字）变成一个包含规范英文名字的list：\n",
    "\n",
    "输入：['adam', 'LISA', 'barT']\n",
    "输出：['Adam', 'Lisa', 'Bart']"
   ]
  },
  {
   "cell_type": "code",
   "execution_count": 2,
   "metadata": {},
   "outputs": [
    {
     "name": "stdout",
     "output_type": "stream",
     "text": [
      "['Adam', 'Lisa', 'Bart']\n"
     ]
    }
   ],
   "source": [
    "def format_name(s):\n",
    "    return s[0].upper()+s[1:].lower()\n",
    "\n",
    "print(map(format_name, ['adam', 'LISA', 'barT']))"
   ]
  },
  {
   "cell_type": "markdown",
   "metadata": {},
   "source": [
    "3. Python内置了求和函数sum()，但没有求积的函数，请利用recude()来求积：\n",
    "\n",
    "输入：[2, 4, 5, 7, 12]\n",
    "输出：2*4*5*7*12的结果"
   ]
  },
  {
   "cell_type": "code",
   "execution_count": 3,
   "metadata": {},
   "outputs": [
    {
     "name": "stdout",
     "output_type": "stream",
     "text": [
      "3360\n"
     ]
    }
   ],
   "source": [
    "def prod(x, y):\n",
    "    return x*y\n",
    "\n",
    "print(reduce(prod, [2, 4, 5, 7, 12]))"
   ]
  },
  {
   "cell_type": "markdown",
   "metadata": {},
   "source": [
    "4. 对字符串排序时，有时候忽略大小写排序更符合习惯。请利用sorted()高阶函数，实现忽略大小写排序的算法。\n",
    "\n",
    "输入：['bob', 'about', 'Zoo', 'Credit']\n",
    "输出：['about', 'bob', 'Credit', 'Zoo']"
   ]
  },
  {
   "cell_type": "code",
   "execution_count": 5,
   "metadata": {},
   "outputs": [
    {
     "name": "stdout",
     "output_type": "stream",
     "text": [
      "['about', 'bob', 'Credit', 'Zoo']\n"
     ]
    }
   ],
   "source": [
    "def cmp_ignore_case(s1, s2):\n",
    "    # 先把字母统一转化成大写，然后再比较\n",
    "    u1 = s1.upper()\n",
    "    u2 = s2.upper()\n",
    "    if u1 < u2:\n",
    "        return -1\n",
    "    if u1 > u2:\n",
    "        return 1\n",
    "    return 0\n",
    "print (sorted(['bob', 'about', 'Zoo', 'Credit'], cmp_ignore_case))"
   ]
  },
  {
   "cell_type": "markdown",
   "metadata": {},
   "source": [
    "5. 请编写一个函数calc_prod(lst)，它接收一个list，返回一个函数，返回函数可以计算参数的乘积。"
   ]
  },
  {
   "cell_type": "code",
   "execution_count": 6,
   "metadata": {},
   "outputs": [
    {
     "name": "stdout",
     "output_type": "stream",
     "text": [
      "24\n"
     ]
    }
   ],
   "source": [
    "def calc_prod(lst):\n",
    "    # 定义一个延迟函数\n",
    "    def lazy_prod():\n",
    "        # 执行两个值相乘\n",
    "        def f(x,y):\n",
    "            return x * y\n",
    "        return reduce(f, lst, 1)\n",
    "    return lazy_prod\n",
    "\n",
    "f = calc_prod([1, 2, 3, 4])\n",
    "print (f())"
   ]
  },
  {
   "cell_type": "markdown",
   "metadata": {},
   "source": [
    "6. 返回闭包不能引用循环变量，请改写count()函数，让它正确返回能计算1x1、2x2、3x3的函数。"
   ]
  },
  {
   "cell_type": "code",
   "execution_count": 7,
   "metadata": {},
   "outputs": [
    {
     "name": "stdout",
     "output_type": "stream",
     "text": [
      "1 4 9\n"
     ]
    }
   ],
   "source": [
    "def count():\n",
    "    fs = []\n",
    "    for i in range(1, 4):\n",
    "        def f(j = i):\n",
    "            return j*j\n",
    "        fs.append(f)\n",
    "    return fs\n",
    "\n",
    "f1, f2, f3 = count()\n",
    "print f1(), f2(), f3()"
   ]
  },
  {
   "cell_type": "markdown",
   "metadata": {},
   "source": [
    "7. 利用匿名函数简化以下代码：\n",
    "```python\n",
    "def is_not_empty(s):\n",
    "    return s and len(s.strip()) > 0\n",
    "filter(is_not_empty, ['test', None, '', 'str', '  ', 'END'])\n",
    "```"
   ]
  },
  {
   "cell_type": "code",
   "execution_count": 8,
   "metadata": {},
   "outputs": [
    {
     "name": "stdout",
     "output_type": "stream",
     "text": [
      "['test', 'str', 'END']\n"
     ]
    }
   ],
   "source": [
    "# 传入匿名函数，lambda相当于一个标识\n",
    "print filter(lambda s: s and len(s.strip()) > 0, ['test', None, '', 'str', '  ', 'END'])"
   ]
  },
  {
   "cell_type": "markdown",
   "metadata": {},
   "source": [
    "8. 请编写一个@performance，它可以打印出函数调用的时间。"
   ]
  },
  {
   "cell_type": "code",
   "execution_count": 9,
   "metadata": {},
   "outputs": [
    {
     "name": "stdout",
     "output_type": "stream",
     "text": [
      "call factorial() in 0.000006s\n",
      "3628800\n"
     ]
    }
   ],
   "source": [
    "import time\n",
    "# 定义一个装饰器\n",
    "def performance(f):\n",
    "    def fn(*args, **kw):\n",
    "        t1 = time.time()\n",
    "        r = f(*args, **kw)\n",
    "        t2 = time.time()\n",
    "        print 'call %s() in %fs' %(f.__name__, (t2 - t1))\n",
    "        return r\n",
    "    return fn\n",
    "\n",
    "@performance\n",
    "def factorial(n):\n",
    "    return reduce(lambda x,y: x*y, range(1, n+1))\n",
    "\n",
    "print factorial(10)"
   ]
  },
  {
   "cell_type": "markdown",
   "metadata": {},
   "source": [
    "9. 上一节的@performance只能打印秒，请给 @performace 增加一个参数，允许传入's'或'ms'：\n",
    "```python\n",
    "@performance('ms')\n",
    "def factorial(n):\n",
    "    return reduce(lambda x,y: x*y, range(1, n+1))\n",
    "```"
   ]
  },
  {
   "cell_type": "code",
   "execution_count": 10,
   "metadata": {},
   "outputs": [
    {
     "name": "stdout",
     "output_type": "stream",
     "text": [
      "call factorial() in 0.006914 ms\n",
      "3628800\n"
     ]
    }
   ],
   "source": [
    "import time\n",
    "\n",
    "def performance(unit):\n",
    "    def perf_decorator(f):\n",
    "        def wrapper(*args, **kw):\n",
    "            t1 = time.time()\n",
    "            r = f(*args, **kw)\n",
    "            t2 = time.time()\n",
    "            t = (t2 - t1) * 1000 if unit=='ms' else (t2 - t1)\n",
    "            print 'call %s() in %f %s' % (f.__name__, t, unit)\n",
    "            return r\n",
    "        return wrapper\n",
    "    return perf_decorator\n",
    "\n",
    "@performance('ms')\n",
    "def factorial(n):\n",
    "    return reduce(lambda x,y: x*y, range(1, n+1))\n",
    "\n",
    "print factorial(10)"
   ]
  },
  {
   "cell_type": "markdown",
   "metadata": {},
   "source": [
    "10. 请思考带参数的@decorator，@functools.wraps应该放置在哪：\n",
    "```python\n",
    "def performance(unit):\n",
    "    def perf_decorator(f):\n",
    "        def wrapper(*args, **kw):\n",
    "            ???\n",
    "        return wrapper\n",
    "    return perf_decorator\n",
    "```"
   ]
  },
  {
   "cell_type": "code",
   "execution_count": 14,
   "metadata": {},
   "outputs": [
    {
     "name": "stdout",
     "output_type": "stream",
     "text": [
      "factorial\n"
     ]
    }
   ],
   "source": [
    "import time, functools\n",
    "def performance(unit):\n",
    "    def perf_decorator(f):\n",
    "        @functools.wraps(f)\n",
    "        def wrapper(*args, **kw):\n",
    "            t1 = time.time()\n",
    "            r = f(*args, **kw)\n",
    "            t2 = time.time()\n",
    "            t = (t2 - t1) * 1000 if unit=='ms' else (t2 - t1)\n",
    "            print 'call %s() in %f %s' % (f.__name__, t, unit)\n",
    "            return r\n",
    "        return wrapper\n",
    "    return perf_decorator\n",
    "\n",
    "@performance('ms')\n",
    "def factorial(n):\n",
    "    return reduce(lambda x,y: x*y, range(1, n+1))\n",
    "print factorial.__name__"
   ]
  },
  {
   "cell_type": "markdown",
   "metadata": {},
   "source": [
    "11. 在第7节中，我们在sorted这个高阶函数中传入自定义排序函数就可以实现忽略大小写排序。请用functools.partial把这个复杂调用变成一个简单的函数：\n",
    "sorted_ignore_case(iterable)"
   ]
  },
  {
   "cell_type": "code",
   "execution_count": 15,
   "metadata": {},
   "outputs": [
    {
     "name": "stdout",
     "output_type": "stream",
     "text": [
      "['about', 'bob', 'Credit', 'Zoo']\n"
     ]
    }
   ],
   "source": [
    "import functools\n",
    "\n",
    "sorted_ignore_case = functools.partial(sorted,cmp=lambda s1,s2: cmp(s1.upper(),s2.upper()))\n",
    "\n",
    "print sorted_ignore_case(['bob', 'about', 'Zoo', 'Credit'])"
   ]
  },
  {
   "cell_type": "markdown",
   "metadata": {},
   "source": [
    "12. Python的os.path模块提供了 isdir() 和 isfile()函数，请导入该模块，并调用函数判断指定的目录和文件是否存在。\n",
    "\n",
    "注意: \n",
    "\n",
    "1. 由于运行环境是平台服务器，所以测试的也是服务器中的文件夹和文件，该服务器上有/data/webroot/resource/python文件夹和/data/webroot/resource/python/test.txt文件，大家可以测试下。\n",
    "\n",
    "2. 当然，大家可以在本机上测试是否存在相应的文件夹和文件。\n",
    "```python\n",
    "import os\n",
    "print os.path.isdir(r'C:\\Windows')\n",
    "print os.path.isfile(r'C:\\Windows\\notepad.exe')\n",
    "```"
   ]
  },
  {
   "cell_type": "code",
   "execution_count": 20,
   "metadata": {},
   "outputs": [
    {
     "name": "stdout",
     "output_type": "stream",
     "text": [
      "True\n",
      "True\n"
     ]
    }
   ],
   "source": [
    "# 注意到os.path模块可以以若干种方式导入：\n",
    "\n",
    "import os\n",
    "import os.path\n",
    "from os import path\n",
    "from os.path import isdir, isfile\n",
    "# 每一种方式调用 isdir 和 isfile 都有所不同。\n",
    "print(isdir(r'/Users/kevin/Code/python/'))\n",
    "print(isfile(r'/Users/kevin/Code/python/learning.py'))"
   ]
  },
  {
   "cell_type": "markdown",
   "metadata": {},
   "source": [
    "13. 利用import ... as ...，还可以动态导入不同名称的模块。\n",
    "Python 2.6/2.7提供了json 模块，但Python 2.5以及更早版本没有json模块，不过可以安装一个simplejson模块，这两个模块提供的函数签名和功能都一模一样。\n",
    "\n",
    "试写出导入json 模块的代码，能在Python 2.5/2.6/2.7都正常运行。"
   ]
  },
  {
   "cell_type": "code",
   "execution_count": 21,
   "metadata": {},
   "outputs": [
    {
     "name": "stdout",
     "output_type": "stream",
     "text": [
      "{\"python\": 2.7}\n"
     ]
    }
   ],
   "source": [
    "try:\n",
    "    import json\n",
    "except ImportError:\n",
    "    import simplejson as json\n",
    "\n",
    "print json.dumps({'python':2.7})"
   ]
  },
  {
   "cell_type": "markdown",
   "metadata": {},
   "source": [
    "14. 在Python 3.x中，字符串统一为unicode，不需要加前缀 u，而以字节存储的str则必须加前缀 b。请利用__future__的unicode_literals在Python 2.7中编写unicode字符串。"
   ]
  },
  {
   "cell_type": "code",
   "execution_count": 22,
   "metadata": {},
   "outputs": [
    {
     "name": "stdout",
     "output_type": "stream",
     "text": [
      "True\n"
     ]
    }
   ],
   "source": [
    "from __future__ import unicode_literals\n",
    "\n",
    "s = 'am I an unicode?'\n",
    "print isinstance(s, unicode)"
   ]
  },
  {
   "cell_type": "markdown",
   "metadata": {},
   "source": []
  }
 ],
 "metadata": {
  "kernelspec": {
   "display_name": "Python 3",
   "language": "python",
   "name": "python3"
  },
  "language_info": {
   "codemirror_mode": {
    "name": "ipython",
    "version": 3
   },
   "file_extension": ".py",
   "mimetype": "text/x-python",
   "name": "python",
   "nbconvert_exporter": "python",
   "pygments_lexer": "ipython3",
   "version": "3.6.4"
  },
  "widgets": {
   "application/vnd.jupyter.widget-state+json": {
    "state": {},
    "version_major": 1,
    "version_minor": 0
   }
  }
 },
 "nbformat": 4,
 "nbformat_minor": 2
}

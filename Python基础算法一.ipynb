{
 "cells": [
  {
   "cell_type": "markdown",
   "metadata": {},
   "source": [
    "1. 利用 3 层for循环的列表生成式，找出对称的 3 位数。例如，121 就是对称数，因为从右到左倒过来还是 121。"
   ]
  },
  {
   "cell_type": "code",
   "execution_count": 1,
   "metadata": {},
   "outputs": [
    {
     "name": "stdout",
     "output_type": "stream",
     "text": [
      "[101, 111, 121, 131, 141, 151, 161, 171, 181, 191, 202, 212, 222, 232, 242, 252, 262, 272, 282, 292, 303, 313, 323, 333, 343, 353, 363, 373, 383, 393, 404, 414, 424, 434, 444, 454, 464, 474, 484, 494, 505, 515, 525, 535, 545, 555, 565, 575, 585, 595, 606, 616, 626, 636, 646, 656, 666, 676, 686, 696, 707, 717, 727, 737, 747, 757, 767, 777, 787, 797, 808, 818, 828, 838, 848, 858, 868, 878, 888, 898, 909, 919, 929, 939, 949, 959, 969, 979, 989, 999]\n"
     ]
    }
   ],
   "source": [
    "print ([100 * n1 + 10 * n2 + n3 for n1 in range(1,10) for n2 in range(10) for n3 in range(10) if n1==n3])"
   ]
  },
  {
   "cell_type": "markdown",
   "metadata": {},
   "source": [
    "2. 请编写一个函数，它接受一个 list，然后把list中的所有字符串变成大写后返回，非字符串元素将被忽略。\n",
    "\n",
    "提示：\n",
    "- isinstance(x, str) 可以判断变量 x 是否是字符串；\n",
    "\n",
    "- 字符串的 upper() 方法可以返回大写的字母。"
   ]
  },
  {
   "cell_type": "code",
   "execution_count": 2,
   "metadata": {},
   "outputs": [
    {
     "name": "stdout",
     "output_type": "stream",
     "text": [
      "['HELLO', 'WORLD']\n"
     ]
    }
   ],
   "source": [
    "def toUppers(L):\n",
    "    return [x.upper() for x in L if isinstance(x, str)]\n",
    "\n",
    "print toUppers(['Hello', 'world', 101])"
   ]
  },
  {
   "cell_type": "markdown",
   "metadata": {},
   "source": [
    "3. 在生成的表格中，对于没有及格的同学，请把分数标记为红色。提示：红色可以用 <td style=\"color:red\"> 实现。"
   ]
  },
  {
   "cell_type": "code",
   "execution_count": 3,
   "metadata": {},
   "outputs": [
    {
     "name": "stdout",
     "output_type": "stream",
     "text": [
      "<table border=\"1\">\n",
      "<tr><th>Name</th><th>Score</th><tr>\n",
      "<tr><td>Lisa</td><td>85</td></tr>\n",
      "<tr><td>Adam</td><td>95</td></tr>\n",
      "<tr><td>Bart</td><td style=\"color:red\">59</td></tr>\n",
      "</table>\n"
     ]
    }
   ],
   "source": [
    "d = { 'Adam': 95, 'Lisa': 85, 'Bart': 59 }\n",
    "def generate_tr(name, score):\n",
    "    if score < 60:\n",
    "        return '<tr><td>%s</td><td style=\"color:red\">%s</td></tr>' % (name, score)\n",
    "    return '<tr><td>%s</td><td>%s</td></tr>' % (name, score)\n",
    "\n",
    "tds = [generate_tr(name,score) for name, score in d.iteritems()]\n",
    "print '<table border=\"1\">'\n",
    "print '<tr><th>Name</th><th>Score</th><tr>'\n",
    "print '\\n'.join(tds)\n",
    "print '</table>'"
   ]
  },
  {
   "cell_type": "markdown",
   "metadata": {},
   "source": [
    "4. 请利用列表生成式生成列表 [1x2, 3x4, 5x6, 7x8, ..., 99x100] 。\n",
    "提示：range(1, 100, 2) 可以生成list [1, 3, 5, 7, 9,...]"
   ]
  },
  {
   "cell_type": "code",
   "execution_count": 4,
   "metadata": {},
   "outputs": [
    {
     "name": "stdout",
     "output_type": "stream",
     "text": [
      "[2, 12, 30, 56, 90, 132, 182, 240, 306, 380, 462, 552, 650, 756, 870, 992, 1122, 1260, 1406, 1560, 1722, 1892, 2070, 2256, 2450, 2652, 2862, 3080, 3306, 3540, 3782, 4032, 4290, 4556, 4830, 5112, 5402, 5700, 6006, 6320, 6642, 6972, 7310, 7656, 8010, 8372, 8742, 9120, 9506, 9900]\n"
     ]
    }
   ],
   "source": [
    "print [x*(x+1) for x in range(1,100,2)]"
   ]
  },
  {
   "cell_type": "markdown",
   "metadata": {},
   "source": [
    "5. 请根据dict：\n",
    "d = { 'Adam': 95, 'Lisa': 85, 'Bart': 59, 'Paul': 74 } 打印出 name : score，最后再打印出平均分 average : score。"
   ]
  },
  {
   "cell_type": "code",
   "execution_count": 5,
   "metadata": {},
   "outputs": [
    {
     "name": "stdout",
     "output_type": "stream",
     "text": [
      "Lisa : 85\n",
      "Paul : 74\n",
      "Adam : 95\n",
      "Bart : 59\n",
      "average : 78.25\n"
     ]
    }
   ],
   "source": [
    "d = { 'Adam': 95, 'Lisa': 85, 'Bart': 59, 'Paul': 74 }\n",
    "\n",
    "sum = 0.0\n",
    "for k, v in d.iteritems():\n",
    "    sum = sum + v\n",
    "    print k, ':', v\n",
    "print 'average', ':', sum / len(d)"
   ]
  },
  {
   "cell_type": "markdown",
   "metadata": {},
   "source": [
    "6. 给定一个dict：\n",
    "d = { 'Adam': 95, 'Lisa': 85, 'Bart': 59, 'Paul': 74 } 请计算所有同学的平均分。"
   ]
  },
  {
   "cell_type": "code",
   "execution_count": 6,
   "metadata": {},
   "outputs": [
    {
     "name": "stdout",
     "output_type": "stream",
     "text": [
      "78.25\n"
     ]
    }
   ],
   "source": [
    "d = { 'Adam': 95, 'Lisa': 85, 'Bart': 59, 'Paul': 74 }\n",
    "\n",
    "sum = 0.0\n",
    "for x in d.values():\n",
    "    sum = sum + x;\n",
    "    x = x + 1\n",
    "print sum/len(d)"
   ]
  },
  {
   "cell_type": "markdown",
   "metadata": {},
   "source": [
    "7. zip()函数可以把两个 list 变成一个 list：\n",
    "\n",
    "> zip([10, 20, 30], ['A', 'B', 'C'])\n",
    "[(10, 'A'), (20, 'B'), (30, 'C')]\n",
    "在迭代 ['Adam', 'Lisa', 'Bart', 'Paul'] 时，如果我们想打印出名次 - 名字（名次从1开始)，请考虑如何在迭代中打印出来。\n",
    "\n",
    "提示：考虑使用zip()函数和range()函数"
   ]
  },
  {
   "cell_type": "code",
   "execution_count": 7,
   "metadata": {},
   "outputs": [
    {
     "name": "stdout",
     "output_type": "stream",
     "text": [
      "1 - Adam\n",
      "2 - Lisa\n",
      "3 - Bart\n",
      "4 - Paul\n"
     ]
    }
   ],
   "source": [
    "L = ['Adam', 'Lisa', 'Bart', 'Paul']\n",
    "for index, name in zip(range(1, len(L)+1),L):\n",
    "    print index, '-', name"
   ]
  },
  {
   "cell_type": "markdown",
   "metadata": {},
   "source": [
    "8. 请用for循环迭代数列 1-100 并打印出7的倍数。"
   ]
  },
  {
   "cell_type": "code",
   "execution_count": 10,
   "metadata": {},
   "outputs": [
    {
     "name": "stdout",
     "output_type": "stream",
     "text": [
      "7\n",
      "14\n",
      "21\n",
      "28\n",
      "35\n",
      "42\n",
      "49\n",
      "56\n",
      "63\n",
      "70\n",
      "77\n",
      "84\n",
      "91\n",
      "98\n"
     ]
    }
   ],
   "source": [
    "for i in range(1,101):\n",
    "    if(i%7==0):\n",
    "        print i"
   ]
  },
  {
   "cell_type": "markdown",
   "metadata": {},
   "source": [
    "9. 字符串有个方法 upper() 可以把字符变成大写字母：\n",
    "\n",
    "> 'abc'.upper()\n",
    "'ABC'\n",
    "但它会把所有字母都变成大写。请设计一个函数，它接受一个字符串，然后返回一个仅首字母变成大写的字符串。\n",
    "\n",
    "提示：利用切片操作简化字符串操作。"
   ]
  },
  {
   "cell_type": "code",
   "execution_count": 11,
   "metadata": {},
   "outputs": [
    {
     "name": "stdout",
     "output_type": "stream",
     "text": [
      "Hello\n",
      "Sunday\n",
      "September\n"
     ]
    }
   ],
   "source": [
    "def firstCharUpper(s):\n",
    "    return s[:1].upper()+s[1:]\n",
    "\n",
    "print firstCharUpper('hello')\n",
    "print firstCharUpper('sunday')\n",
    "print firstCharUpper('september')"
   ]
  },
  {
   "cell_type": "markdown",
   "metadata": {},
   "source": [
    "10. 利用倒序切片对 1 - 100 的数列取出：\n",
    "* 最后10个数；\n",
    "* 最后10个5的倍数。"
   ]
  },
  {
   "cell_type": "code",
   "execution_count": 12,
   "metadata": {},
   "outputs": [
    {
     "name": "stdout",
     "output_type": "stream",
     "text": [
      "[91, 92, 93, 94, 95, 96, 97, 98, 99, 100]\n",
      "[55, 60, 65, 70, 75, 80, 85, 90, 95, 100]\n"
     ]
    }
   ],
   "source": [
    "L = range(1, 101)\n",
    "print L[-10:]\n",
    "print L[-46::5]"
   ]
  },
  {
   "cell_type": "markdown",
   "metadata": {},
   "source": [
    "11. range()函数可以创建一个数列：\n",
    "\n",
    "> range(1, 101)\n",
    "[1, 2, 3, ..., 100]\n",
    "请利用切片，取出：\n",
    "1. 前10个数；\n",
    "2. 3的倍数；\n",
    "3. 不大于50的5的倍数。"
   ]
  },
  {
   "cell_type": "code",
   "execution_count": 13,
   "metadata": {},
   "outputs": [
    {
     "name": "stdout",
     "output_type": "stream",
     "text": [
      "[1, 2, 3, 4, 5, 6, 7, 8, 9, 10]\n",
      "[3, 6, 9, 12, 15, 18, 21, 24, 27, 30, 33, 36, 39, 42, 45, 48, 51, 54, 57, 60, 63, 66, 69, 72, 75, 78, 81, 84, 87, 90, 93, 96, 99]\n",
      "[5, 10, 15, 20, 25, 30, 35, 40, 45, 50]\n"
     ]
    }
   ],
   "source": [
    "L = range(1, 101)\n",
    "\n",
    "print L[:10]\n",
    "print L[2::3]\n",
    "print L[4:50:5]"
   ]
  },
  {
   "cell_type": "markdown",
   "metadata": {},
   "source": [
    "12. 请编写接受可变参数的 average() 函数。"
   ]
  },
  {
   "cell_type": "code",
   "execution_count": 14,
   "metadata": {},
   "outputs": [
    {
     "name": "stdout",
     "output_type": "stream",
     "text": [
      "0.0\n",
      "1.5\n",
      "2.4\n"
     ]
    }
   ],
   "source": [
    "def average(*args):\n",
    "    sum = 0.0\n",
    "    if len(args) == 0:\n",
    "        return sum\n",
    "    for x in args:\n",
    "        sum = sum + x\n",
    "    return sum / len(args)\n",
    "\n",
    "print average()\n",
    "print average(1, 2)\n",
    "print average(1, 2, 2, 3, 4)"
   ]
  },
  {
   "cell_type": "markdown",
   "metadata": {},
   "source": [
    "13. 请定义一个 greet() 函数，它包含一个默认参数，如果没有传入，打印 'Hello, world.'，如果传入，打印 'Hello, xxx.'"
   ]
  },
  {
   "cell_type": "code",
   "execution_count": 15,
   "metadata": {},
   "outputs": [
    {
     "name": "stdout",
     "output_type": "stream",
     "text": [
      "Hello,  world.\n",
      "Hello,  Bart.\n"
     ]
    }
   ],
   "source": [
    "def greet(w='world'):\n",
    "    print 'Hello, ',w+'.'\n",
    "\n",
    "greet()\n",
    "greet('Bart')"
   ]
  },
  {
   "cell_type": "markdown",
   "metadata": {},
   "source": [
    "14. 汉诺塔 (http://baike.baidu.com/view/191666.htm) 的移动也可以看做是递归函数。\n",
    "\n",
    "我们对柱子编号为a, b, c，将所有圆盘从a移到c可以描述为：\n",
    "\n",
    "如果a只有一个圆盘，可以直接移动到c；\n",
    "\n",
    "如果a有N个圆盘，可以看成a有1个圆盘（底盘） + (N-1)个圆盘，首先需要把 (N-1) 个圆盘移动到 b，然后，将 a的最后一个圆盘移动到c，再将b的(N-1)个圆盘移动到c。\n",
    "\n",
    "请编写一个函数，给定输入 n, a, b, c，打印出移动的步骤：\n",
    "\n",
    "move(n, a, b, c)\n",
    "\n",
    "例如，输入 move(2, 'A', 'B', 'C')，打印出：\n",
    "\n",
    "A --> B\n",
    "A --> C\n",
    "B --> C"
   ]
  },
  {
   "cell_type": "code",
   "execution_count": 16,
   "metadata": {},
   "outputs": [
    {
     "name": "stdout",
     "output_type": "stream",
     "text": [
      "A --> B\n",
      "A --> C\n",
      "B --> C\n",
      "A --> B\n",
      "C --> A\n",
      "C --> B\n",
      "A --> B\n",
      "A --> C\n",
      "B --> C\n",
      "B --> A\n",
      "C --> A\n",
      "B --> C\n",
      "A --> B\n",
      "A --> C\n",
      "B --> C\n"
     ]
    }
   ],
   "source": [
    "def move(n, a, b, c):\n",
    "    if n ==1:\n",
    "        print a, '-->', c\n",
    "        return\n",
    "    move(n-1, a, c, b)\n",
    "    print a, '-->', c\n",
    "    move(n-1, b, a, c)\n",
    "move(4, 'A', 'B', 'C')"
   ]
  },
  {
   "cell_type": "code",
   "execution_count": 18,
   "metadata": {},
   "outputs": [
    {
     "name": "stdout",
     "output_type": "stream",
     "text": [
      "静夜思\n",
      "床前明月光，\n",
      "疑是地上霜。\n",
      "举头望明月，\n",
      "低头思故乡。\n"
     ]
    }
   ],
   "source": [
    "print u'''静夜思\n",
    "床前明月光，\n",
    "疑是地上霜。\n",
    "举头望明月，\n",
    "低头思故乡。'''"
   ]
  },
  {
   "cell_type": "markdown",
   "metadata": {
    "collapsed": true
   },
   "source": [
    "19. 假设你每年初往银行账户中1000元钱，银行的年利率为4.7%。\n",
    "一年后，你的账户余额为：\n",
    "1000 * ( 1 + 0.047) = 1047 元\n",
    "第二年初你又存入1000元，则两年后账户余额为：\n",
    "(1047 + 1000) * ( 1 + 0.047) = 2143.209 元\n",
    "以此类推，第10年年末，你的账户上有多少余额？\n",
    "注：结果保留2位小数（四舍五入）。"
   ]
  },
  {
   "cell_type": "code",
   "execution_count": 3,
   "metadata": {},
   "outputs": [
    {
     "name": "stdout",
     "output_type": "stream",
     "text": [
      "2047.0\n",
      "3143.209\n",
      "4290.939823\n",
      "5492.61399468\n",
      "6750.76685243\n",
      "8068.0528945\n",
      "9447.25138054\n",
      "10891.2721954\n",
      "12403.1619886\n",
      "13986.1106021\n"
     ]
    }
   ],
   "source": [
    "suma = 1000\n",
    "for x in xrange(1,10):\n",
    "    suma = suma * (1+0.047)\n",
    "    suma = suma + 1000\n",
    "    print suma\n",
    "# print '%.2f' % suma"
   ]
  },
  {
   "cell_type": "code",
   "execution_count": null,
   "metadata": {
    "collapsed": true
   },
   "outputs": [],
   "source": []
  },
  {
   "cell_type": "code",
   "execution_count": null,
   "metadata": {
    "collapsed": true
   },
   "outputs": [],
   "source": []
  },
  {
   "cell_type": "code",
   "execution_count": null,
   "metadata": {
    "collapsed": true
   },
   "outputs": [],
   "source": []
  }
 ],
 "metadata": {
  "kernelspec": {
   "display_name": "Python 3",
   "language": "python",
   "name": "python3"
  },
  "language_info": {
   "codemirror_mode": {
    "name": "ipython",
    "version": 3
   },
   "file_extension": ".py",
   "mimetype": "text/x-python",
   "name": "python",
   "nbconvert_exporter": "python",
   "pygments_lexer": "ipython3",
   "version": "3.6.4"
  }
 },
 "nbformat": 4,
 "nbformat_minor": 2
}

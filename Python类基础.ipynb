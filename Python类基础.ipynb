{
 "cells": [
  {
   "cell_type": "markdown",
   "metadata": {},
   "source": [
    "1. 请创建包含两个 Person 类的实例的 list，并给两个实例的 name 赋值，然后按照 name 进行排序。"
   ]
  },
  {
   "cell_type": "code",
   "execution_count": null,
   "metadata": {
    "collapsed": true
   },
   "outputs": [],
   "source": [
    "class Person(object):\n",
    "    pass\n",
    "\n",
    "p1 = Person()\n",
    "p1.name = 'Bart'\n",
    "\n",
    "p2 = Person()\n",
    "p2.name = 'Adam'\n",
    "\n",
    "p3 = Person()\n",
    "p3.name = 'Lisa'\n",
    "\n",
    "L1 = [p1, p2, p3]\n",
    "L2 = sorted(L1, lambda p1, p2: cmp(p1.name, p2.name))\n",
    "\n",
    "print L2[0].name\n",
    "print L2[1].name\n",
    "print L2[2].name"
   ]
  },
  {
   "cell_type": "markdown",
   "metadata": {},
   "source": [
    "2. 请定义Person类的__init__方法，除了接受 name、gender 和 birth 外，还可接受任意关键字参数，并把他们都作为属性赋值给实例。"
   ]
  },
  {
   "cell_type": "code",
   "execution_count": null,
   "metadata": {
    "collapsed": true
   },
   "outputs": [],
   "source": [
    "class Person(object):\n",
    "    def __init__(self, name, gender, birth, **kw):\n",
    "        self.name = name\n",
    "        self.gender = gender\n",
    "        self.birth = birth\n",
    "        for k, v in kw.iteritems():\n",
    "            # 通过setattr()设置属性\n",
    "            setattr(self, k, v)\n",
    "xiaoming = Person('Xiao Ming', 'Male', '1990-1-1', job='Student')\n",
    "print xiaoming.name\n",
    "print xiaoming.job"
   ]
  },
  {
   "cell_type": "markdown",
   "metadata": {},
   "source": [
    "3. 请给Person类的__init__方法中添加name和score参数，并把score绑定到__score属性上，看看外部是否能访问到。"
   ]
  },
  {
   "cell_type": "code",
   "execution_count": null,
   "metadata": {
    "collapsed": true
   },
   "outputs": [],
   "source": [
    "class Person(object):\n",
    "    def __init__(self, name, score):\n",
    "        self.name = name\n",
    "        self.__score = score\n",
    "\n",
    "p = Person('Bob', 59)\n",
    "\n",
    "print p.name\n",
    "# __score为私有属性，访问报错\n",
    "# print p.__score"
   ]
  },
  {
   "cell_type": "markdown",
   "metadata": {},
   "source": [
    "4. 请给 Person 类添加一个类属性 count，每创建一个实例，count 属性就加 1，这样就可以统计出一共创建了多少个 Person 的实例。"
   ]
  },
  {
   "cell_type": "code",
   "execution_count": null,
   "metadata": {
    "collapsed": true
   },
   "outputs": [],
   "source": [
    "class Person(object):\n",
    "    count = 0\n",
    "    def __init__(self,name):\n",
    "        self.name = name\n",
    "        Person.count = Person.count + 1\n",
    "\n",
    "p1 = Person('Bob')\n",
    "print Person.count\n",
    "\n",
    "p2 = Person('Alice')\n",
    "print Person.count\n",
    "\n",
    "p3 = Person('Tim')\n",
    "print Person.count"
   ]
  },
  {
   "cell_type": "markdown",
   "metadata": {},
   "source": [
    "5. 请给 Person 类增加一个私有属性 __score，表示分数，再增加一个实例方法 get_grade()，能根据 __score 的值分别返回 A-优秀, B-及格, C-不及格三档。"
   ]
  },
  {
   "cell_type": "code",
   "execution_count": null,
   "metadata": {
    "collapsed": true
   },
   "outputs": [],
   "source": [
    "class Person(object):\n",
    "    __score = 0\n",
    "    def __init__(self, name, score):\n",
    "        self.name = name\n",
    "        self.__score = score\n",
    "\n",
    "    def get_grade(self):\n",
    "        if(self.__score >= 80):\n",
    "            return 'A'\n",
    "        elif(self.__score >= 60):\n",
    "            return 'B'\n",
    "        else:\n",
    "            return 'C'\n",
    "\n",
    "p1 = Person('Bob', 90)\n",
    "p2 = Person('Alice', 65)\n",
    "p3 = Person('Tim', 48)\n",
    "\n",
    "print p1.get_grade()\n",
    "print p2.get_grade()\n",
    "print p3.get_grade()"
   ]
  },
  {
   "cell_type": "markdown",
   "metadata": {},
   "source": [
    "6. 如果将类属性 count 改为私有属性__count，则外部无法读取__score，但可以通过一个类方法获取，请编写类方法获得__count值。"
   ]
  },
  {
   "cell_type": "code",
   "execution_count": null,
   "metadata": {
    "collapsed": true
   },
   "outputs": [],
   "source": [
    "class Person(object):\n",
    "    \n",
    "    __count = 0\n",
    "    @classmethod\n",
    "    def how_many(cls):\n",
    "        return cls.__count\n",
    "    def __init__(self, name):\n",
    "        self.name = name\n",
    "        Person.__count = Person.__count + 1\n",
    "\n",
    "print Person.how_many()\n",
    "\n",
    "p1 = Person('Bob')\n",
    "\n",
    "print Person.how_many()"
   ]
  },
  {
   "cell_type": "markdown",
   "metadata": {},
   "source": [
    "7. 请参考 Student 类，编写一个 Teacher类，也继承自 Person。"
   ]
  },
  {
   "cell_type": "code",
   "execution_count": null,
   "metadata": {
    "collapsed": true
   },
   "outputs": [],
   "source": [
    "class Person(object):\n",
    "    def __init__(self, name, gender):\n",
    "        self.name = name\n",
    "        self.gender = gender\n",
    "\n",
    "class Teacher(Person):\n",
    "\n",
    "    def __init__(self, name, gender, course):\n",
    "        super(Teacher, self).__init__(name, gender)\n",
    "        self.course = course\n",
    "\n",
    "t = Teacher('Alice', 'Female', 'English')\n",
    "print t.name\n",
    "print t.course"
   ]
  },
  {
   "cell_type": "markdown",
   "metadata": {},
   "source": [
    "8. Python提供了open()函数来打开一个磁盘文件，并返回 File 对象。File对象有一个read()方法可以读取文件内容：\n",
    "\n",
    "例如，从文件读取内容并解析为JSON结果：\n",
    "\n",
    "import json\n",
    "f = open('/path/to/file.json', 'r')\n",
    "print json.load(f)\n",
    "由于Python的动态特性，json.load()并不一定要从一个File对象读取内容。任何对象，只要有read()方法，就称为File-like Object，都可以传给json.load()。\n",
    "\n",
    "请尝试编写一个File-like Object，把一个字符串 r'[\"Tim\", \"Bob\", \"Alice\"]'包装成 File-like Object 并由 json.load() 解析。"
   ]
  },
  {
   "cell_type": "code",
   "execution_count": null,
   "metadata": {
    "collapsed": true
   },
   "outputs": [],
   "source": [
    "import json\n",
    "\n",
    "class Students(object):\n",
    "    def read(self):\n",
    "        return r'[\"Tim\", \"Bob\", \"Alice\"]'\n",
    "\n",
    "s = Students()\n",
    "\n",
    "print json.load(s)"
   ]
  },
  {
   "cell_type": "markdown",
   "metadata": {},
   "source": [
    "9. 任务\n",
    "+-Person\n",
    "  +- Student\n",
    "  +- Teacher\n",
    "\n",
    "是一类继承树；\n",
    "\n",
    "+- SkillMixin\n",
    "   +- BasketballMixin\n",
    "   +- FootballMixin\n",
    "\n",
    "是一类继承树。\n",
    "\n",
    "通过多重继承，请定义“会打篮球的学生”和“会踢足球的老师”。"
   ]
  },
  {
   "cell_type": "code",
   "execution_count": 1,
   "metadata": {},
   "outputs": [
    {
     "name": "stdout",
     "output_type": "stream",
     "text": [
      "basketball\n",
      "football\n"
     ]
    }
   ],
   "source": [
    "class Person(object):\n",
    "    pass\n",
    "\n",
    "class Student(Person):\n",
    "    pass\n",
    "\n",
    "class Teacher(Person):\n",
    "    pass\n",
    "\n",
    "class SkillMixin(object):\n",
    "    pass\n",
    "\n",
    "class BasketballMixin(SkillMixin):\n",
    "    def skill(self):\n",
    "        return 'basketball'\n",
    "\n",
    "class FootballMixin(SkillMixin):\n",
    "    def skill(self):\n",
    "        return 'football'\n",
    "\n",
    "class BStudent(Student, BasketballMixin):\n",
    "    pass\n",
    "\n",
    "class FTeacher(Teacher, FootballMixin):\n",
    "    pass\n",
    "\n",
    "s = BStudent()\n",
    "print s.skill()\n",
    "\n",
    "t = FTeacher()\n",
    "print t.skill()"
   ]
  },
  {
   "cell_type": "markdown",
   "metadata": {},
   "source": [
    "10. 对于Person类的定义：\n",
    "```python\n",
    "class Person(object):\n",
    "    def __init__(self, name, gender):\n",
    "        self.name = name\n",
    "        self.gender = gender\n",
    "```\n",
    "希望除了 name和gender 外，可以提供任意额外的关键字参数，并绑定到实例，请修改 Person 的 __init__()定 义，完成该功能。"
   ]
  },
  {
   "cell_type": "code",
   "execution_count": 2,
   "metadata": {},
   "outputs": [
    {
     "name": "stdout",
     "output_type": "stream",
     "text": [
      "18\n",
      "Python\n"
     ]
    }
   ],
   "source": [
    "class Person(object):\n",
    "\n",
    "    def __init__(self, name, gender, **kw):\n",
    "        self.name = name\n",
    "        self.gender = gender\n",
    "        for k, v in kw.iteritems():\n",
    "            setattr(self, k, v)\n",
    "\n",
    "p = Person('Bob', 'Male', age=18, course='Python')\n",
    "print p.age\n",
    "print p.course"
   ]
  },
  {
   "cell_type": "markdown",
   "metadata": {},
   "source": [
    "11. 请给Student 类定义__str__和__repr__方法，使得能打印出<Student: name, gender, score>：\n",
    "\n",
    "```python\n",
    "class Student(Person):\n",
    "    def __init__(self, name, gender, score):\n",
    "        super(Student, self).__init__(name, gender)\n",
    "        self.score = score\n",
    "```"
   ]
  },
  {
   "cell_type": "code",
   "execution_count": 3,
   "metadata": {},
   "outputs": [
    {
     "name": "stdout",
     "output_type": "stream",
     "text": [
      "(Student: Bob, male, 88)\n"
     ]
    }
   ],
   "source": [
    "class Person(object):\n",
    "\n",
    "    def __init__(self, name, gender):\n",
    "        self.name = name\n",
    "        self.gender = gender\n",
    "\n",
    "class Student(Person):\n",
    "\n",
    "    def __init__(self, name, gender, score):\n",
    "        super(Student, self).__init__(name, gender)\n",
    "        self.score = score\n",
    "\n",
    "    def __str__(self):\n",
    "        return '(Student: %s, %s, %s)' %(self.name, self.gender, self.score)\n",
    "    __repr__ = __str__\n",
    "\n",
    "s = Student('Bob', 'male', 88)\n",
    "print s"
   ]
  },
  {
   "cell_type": "markdown",
   "metadata": {},
   "source": [
    "12. 请修改 Student 的 __cmp__ 方法，让它按照分数从高到底排序，分数相同的按名字排序。"
   ]
  },
  {
   "cell_type": "code",
   "execution_count": null,
   "metadata": {
    "collapsed": true
   },
   "outputs": [],
   "source": [
    "class Student(object):\n",
    "\n",
    "    def __init__(self, name, score):\n",
    "        self.name = name\n",
    "        self.score = score\n",
    "\n",
    "    def __str__(self):\n",
    "        return '(%s: %s)' % (self.name, self.score)\n",
    "\n",
    "    __repr__ = __str__\n",
    "\n",
    "    def __cmp__(self, s):\n",
    "        if self.score == s.score:\n",
    "            return cmp(self.name, s.name)\n",
    "        return -cmp(self.score, s.score)\n",
    "\n",
    "L = [Student('Tim', 99), Student('Bob', 88), Student('Alice', 99)]\n",
    "print sorted(L)"
   ]
  },
  {
   "cell_type": "markdown",
   "metadata": {},
   "source": [
    "13. 斐波那契数列是由 0, 1, 1, 2, 3, 5, 8...构成。\n",
    "\n",
    "请编写一个Fib类，Fib(10)表示数列的前10个元素，print Fib(10) 可以打印出数列的前 10 个元素，len(Fib(10))可以正确返回数列的个数10。"
   ]
  },
  {
   "cell_type": "code",
   "execution_count": 4,
   "metadata": {},
   "outputs": [
    {
     "name": "stdout",
     "output_type": "stream",
     "text": [
      "[0, 1, 1, 2, 3, 5, 8, 13, 21, 34]\n",
      "10\n"
     ]
    }
   ],
   "source": [
    "class Fib(object):\n",
    "\n",
    "    def __init__(self, num):\n",
    "        a, b, L = 0, 1, []\n",
    "        for n in range(num):\n",
    "            L.append(a)\n",
    "            a, b = b, a + b\n",
    "        self.numbers = L\n",
    "\n",
    "    def __str__(self):\n",
    "        return str(self.numbers)\n",
    "        \n",
    "    __repr__ = __str__\n",
    "    \n",
    "    def __len__(self):\n",
    "        return len(self.numbers)\n",
    "\n",
    "f = Fib(10)\n",
    "print f\n",
    "print len(f)"
   ]
  },
  {
   "cell_type": "markdown",
   "metadata": {},
   "source": [
    "14. Rational类虽然可以做加法，但无法做减法、乘方和除法，请继续完善Rational类，实现四则运算。\n",
    "\n",
    "提示：\n",
    "减法运算：__sub__\n",
    "乘法运算：__mul__\n",
    "除法运算：__div__"
   ]
  },
  {
   "cell_type": "code",
   "execution_count": 5,
   "metadata": {},
   "outputs": [
    {
     "name": "stdout",
     "output_type": "stream",
     "text": [
      "3/4\n",
      "1/4\n",
      "1/8\n",
      "2/1\n"
     ]
    }
   ],
   "source": [
    "def gcd(a, b):\n",
    "    if b == 0:\n",
    "        return a\n",
    "    return gcd(b, a % b)\n",
    "\n",
    "class Rational(object):\n",
    "    def __init__(self, p, q):\n",
    "        self.p = p\n",
    "        self.q = q\n",
    "    def __add__(self, r):\n",
    "        return Rational(self.p * r.q + self.q * r.p, self.q * r.q)\n",
    "    def __sub__(self, r):\n",
    "        return Rational(self.p * r.q - self.q * r.p, self.q * r.q)\n",
    "    def __mul__(self, r):\n",
    "        return Rational(self.p * r.p, self.q * r.q)\n",
    "    def __div__(self, r):\n",
    "        return Rational(self.p * r.q, self.q * r.p)\n",
    "    def __str__(self):\n",
    "        g = gcd(self.p, self.q)\n",
    "        return '%s/%s' % (self.p / g, self.q / g)\n",
    "    __repr__ = __str__\n",
    "\n",
    "r1 = Rational(1, 2)\n",
    "r2 = Rational(1, 4)\n",
    "print r1 + r2\n",
    "print r1 - r2\n",
    "print r1 * r2\n",
    "print r1 / r2"
   ]
  },
  {
   "cell_type": "markdown",
   "metadata": {},
   "source": [
    "15. 请继续完善Rational，使之可以转型为float。"
   ]
  },
  {
   "cell_type": "code",
   "execution_count": 6,
   "metadata": {},
   "outputs": [
    {
     "name": "stdout",
     "output_type": "stream",
     "text": [
      "3.5\n",
      "0.333333333333\n"
     ]
    }
   ],
   "source": [
    "class Rational(object):\n",
    "    def __init__(self, p, q):\n",
    "        self.p = p\n",
    "        self.q = q\n",
    "\n",
    "    def __int__(self):\n",
    "        return self.p // self.q\n",
    "\n",
    "    def __float__(self):\n",
    "        return float(self.p) / self.q\n",
    "\n",
    "print float(Rational(7, 2))\n",
    "print float(Rational(1, 3))"
   ]
  },
  {
   "cell_type": "markdown",
   "metadata": {},
   "source": [
    "16. 如果没有定义set方法，就不能对“属性”赋值，这时，就可以创建一个只读“属性”。\n",
    "\n",
    "请给Student类加一个grade属性，根据 score 计算 A（>=80）、B、C（<60）。"
   ]
  },
  {
   "cell_type": "code",
   "execution_count": 7,
   "metadata": {},
   "outputs": [
    {
     "name": "stdout",
     "output_type": "stream",
     "text": [
      "C\n",
      "B\n",
      "A\n"
     ]
    }
   ],
   "source": [
    "class Student(object):\n",
    "    def __init__(self, name, score):\n",
    "        self.name = name\n",
    "        self.__score = score\n",
    "    @property\n",
    "    def score(self):\n",
    "        return self.__score\n",
    "    @score.setter\n",
    "    def score(self, score):\n",
    "        if score < 0 or score > 100:\n",
    "            raise ValueError('invalid score')\n",
    "        self.__score = score\n",
    "    @property\n",
    "    def grade(self):\n",
    "        if self.score < 60:\n",
    "            return 'C'\n",
    "        if self.score < 80:\n",
    "            return 'B'\n",
    "        return 'A'\n",
    "s = Student('Bob', 59)\n",
    "print s.grade\n",
    "s.score = 60\n",
    "print s.grade\n",
    "s.score = 99\n",
    "print s.grade"
   ]
  },
  {
   "cell_type": "markdown",
   "metadata": {},
   "source": [
    "17. 假设Person类通过__slots__定义了name和gender，请在派生类Student中通过__slots__继续添加score的定义，使Student类可以实现name、gender和score 3个属性。"
   ]
  },
  {
   "cell_type": "code",
   "execution_count": 8,
   "metadata": {},
   "outputs": [
    {
     "name": "stdout",
     "output_type": "stream",
     "text": [
      "99\n"
     ]
    }
   ],
   "source": [
    "class Person(object):\n",
    "    __slots__ = ('name', 'gender')\n",
    "    def __init__(self, name, gender):\n",
    "        self.name = name\n",
    "        self.gender = gender\n",
    "\n",
    "class Student(Person):\n",
    "    __slots__ = ('score',)\n",
    "    def __init__(self, name, gender, score):\n",
    "        super(Student, self).__init__(name, gender)\n",
    "        self.score = score\n",
    "\n",
    "s = Student('Bob', 'male', 59)\n",
    "s.name = 'Tim'\n",
    "s.score = 99\n",
    "print s.score"
   ]
  },
  {
   "cell_type": "markdown",
   "metadata": {},
   "source": [
    "18. 改进一下前面定义的斐波那契数列：\n",
    "```python\n",
    "class Fib(object):\n",
    "    ???\n",
    "```\n",
    "请加一个__call__方法，让调用更简单：\n",
    "```python\n",
    ">>> f = Fib()\n",
    ">>> print f(10)\n",
    "[0, 1, 1, 2, 3, 5, 8, 13, 21, 34]\n",
    "```"
   ]
  },
  {
   "cell_type": "code",
   "execution_count": 9,
   "metadata": {},
   "outputs": [
    {
     "name": "stdout",
     "output_type": "stream",
     "text": [
      "[0, 1, 1, 2, 3, 5, 8, 13, 21, 34]\n"
     ]
    }
   ],
   "source": [
    "class Fib(object):\n",
    "    def __call__(self, num):\n",
    "        a, b, L = 0, 1, []\n",
    "        for n in range(num):\n",
    "            L.append(a)\n",
    "            a, b = b, a + b\n",
    "        return L\n",
    "\n",
    "f = Fib()\n",
    "print f(10)"
   ]
  },
  {
   "cell_type": "code",
   "execution_count": null,
   "metadata": {
    "collapsed": true
   },
   "outputs": [],
   "source": []
  }
 ],
 "metadata": {
  "kernelspec": {
   "display_name": "Python 3",
   "language": "python",
   "name": "python3"
  },
  "language_info": {
   "codemirror_mode": {
    "name": "ipython",
    "version": 3
   },
   "file_extension": ".py",
   "mimetype": "text/x-python",
   "name": "python",
   "nbconvert_exporter": "python",
   "pygments_lexer": "ipython3",
   "version": "3.6.4"
  }
 },
 "nbformat": 4,
 "nbformat_minor": 2
}
